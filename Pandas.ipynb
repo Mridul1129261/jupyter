{
 "cells": [
  {
   "attachments": {},
   "cell_type": "markdown",
   "metadata": {},
   "source": [
    "**PANDAS**"
   ]
  },
  {
   "attachments": {},
   "cell_type": "markdown",
   "metadata": {},
   "source": [
    "Data creation methods "
   ]
  },
  {
   "cell_type": "code",
   "execution_count": null,
   "metadata": {},
   "outputs": [],
   "source": [
    "import pandas as pd\n",
    "#using list of data values and columns\n",
    "data=[\n",
    "['a',12,'MatHs'],\n",
    "['b',15,'English'],\n",
    "['c',14,'Bio'],\n",
    "['d',13,'Maths'],\n",
    "['e',11,'chemistry']]\n",
    "col=['Name', 'Age', 'Subject']\n",
    "df=pd.DataFrame(data,columns=col) #df is created\n",
    "df"
   ]
  },
  {
   "cell_type": "code",
   "execution_count": null,
   "metadata": {},
   "outputs": [],
   "source": [
    "data=[\n",
    "{'Name':'a' , 'Age':12 , 'Subject':'MatHs' },\n",
    "{'Name':'b' , 'Age':15 , 'Subject':'English' },\n",
    "{'Name':'c' , 'Age':14 , 'Subject':'Bio' },\n",
    "{'Name':'d' , 'Age':13 , 'Subject':'Maths' },\n",
    "{'Name':'e' , 'Age':11 , 'Subject':'chemistry' }]\n",
    "df=pd.DataFrame(data)\n",
    "df"
   ]
  },
  {
   "attachments": {},
   "cell_type": "markdown",
   "metadata": {},
   "source": [
    "Operations on complete table/dataframe"
   ]
  },
  {
   "cell_type": "code",
   "execution_count": null,
   "metadata": {},
   "outputs": [],
   "source": [
    "df.head() #5 rows by default\n",
    "df.head(n=2) #2 rows"
   ]
  },
  {
   "cell_type": "code",
   "execution_count": null,
   "metadata": {},
   "outputs": [],
   "source": [
    "df.Name# display column Name\n",
    "df['Name'] #Alter method of above"
   ]
  },
  {
   "cell_type": "code",
   "execution_count": null,
   "metadata": {},
   "outputs": [],
   "source": [
    "df[['Name','Age']]# Multiple column display\n",
    "df[['Name','Age']].head(n=2) # only two rows of multi cols"
   ]
  },
  {
   "cell_type": "code",
   "execution_count": null,
   "metadata": {},
   "outputs": [],
   "source": [
    "df[\"Marks\"]=[100,200,200,90,150]# New Column entry\n",
    "df"
   ]
  },
  {
   "cell_type": "code",
   "execution_count": null,
   "metadata": {},
   "outputs": [],
   "source": [
    "del df['Marks'] # delete specified column\n",
    "df"
   ]
  },
  {
   "cell_type": "code",
   "execution_count": null,
   "metadata": {},
   "outputs": [],
   "source": [
    "df.index #RangeIndex(start=0, stop=5, step=1)\n",
    "df.Age.index #RangeIndex(start=0, stop=5, step=1)\n",
    "df.index=['i','ii','iii','iv','v'] # custom index\n",
    "df"
   ]
  },
  {
   "cell_type": "code",
   "execution_count": null,
   "metadata": {},
   "outputs": [],
   "source": [
    "df.reset_index() #do not drop the custom index\n",
    "df.reset_index(drop=True)#''' # drop the custom index"
   ]
  },
  {
   "cell_type": "code",
   "execution_count": null,
   "metadata": {},
   "outputs": [],
   "source": [
    "df.iloc[2] # display data of second row\n",
    "df.iloc[[2,3]] # display data of multiple specified rows"
   ]
  },
  {
   "cell_type": "code",
   "execution_count": null,
   "metadata": {},
   "outputs": [],
   "source": [
    "df.describe() # analysis of integral columns\n",
    "#df.mean()# mean of integral columns\n",
    "#df.max()# max of all columns entries\n",
    "#df.min()# min of all column entries\n",
    "#df.nunique() #unique entries\n",
    "#df.isnull()# null entries (boolean, row-wise)\n",
    "#df.isnull().sum()# null entries sum column wise\n",
    "#df.to_dict(orient='records') # all  records in form of dictonary"
   ]
  },
  {
   "attachments": {},
   "cell_type": "markdown",
   "metadata": {},
   "source": [
    "Column specific operations"
   ]
  },
  {
   "cell_type": "code",
   "execution_count": null,
   "metadata": {},
   "outputs": [],
   "source": [
    "df['Marks']=df.Marks/100 #changes all elements of a specified integral column\n",
    "df"
   ]
  },
  {
   "cell_type": "code",
   "execution_count": null,
   "metadata": {},
   "outputs": [],
   "source": [
    "df['Marks']=df.Marks*100\n",
    "df"
   ]
  },
  {
   "cell_type": "code",
   "execution_count": null,
   "metadata": {},
   "outputs": [],
   "source": [
    "df['Age']+=1\n",
    "df"
   ]
  },
  {
   "cell_type": "code",
   "execution_count": null,
   "metadata": {},
   "outputs": [],
   "source": [
    "#df.Age.describe()\n",
    "#df.Age.memory_usage()\n",
    "#df.Age.agg([min]) # aggregate\n",
    "df.Age.isnull().sum()"
   ]
  },
  {
   "attachments": {},
   "cell_type": "markdown",
   "metadata": {},
   "source": [
    "String operations"
   ]
  },
  {
   "cell_type": "code",
   "execution_count": null,
   "metadata": {},
   "outputs": [],
   "source": [
    "#df['Subject'].str.lower()\n",
    "#df['Subject'].str.replace(\" \",\"_\")\n",
    "df['Subject'].str.cat(['0','0','0','0','0'],sep='-')"
   ]
  },
  {
   "cell_type": "code",
   "execution_count": null,
   "metadata": {},
   "outputs": [],
   "source": [
    "df['Name']=df['Name'].str.upper().str.lower()\n",
    "df"
   ]
  },
  {
   "cell_type": "code",
   "execution_count": null,
   "metadata": {},
   "outputs": [],
   "source": [
    "df['Subject']=df['Subject'].str.capitalize()\n",
    "df"
   ]
  },
  {
   "attachments": {},
   "cell_type": "markdown",
   "metadata": {},
   "source": [
    "Filtering through columns"
   ]
  },
  {
   "cell_type": "code",
   "execution_count": null,
   "metadata": {},
   "outputs": [],
   "source": [
    "df['Marks']>91 # output boolean [row-wise]\n",
    "df[df['Marks']>91] # display entries that matches the filter"
   ]
  },
  {
   "cell_type": "code",
   "execution_count": null,
   "metadata": {},
   "outputs": [],
   "source": [
    "df[(df['Marks']>100) & (df['Age']>11)] #Filtering using &"
   ]
  },
  {
   "cell_type": "code",
   "execution_count": null,
   "metadata": {},
   "outputs": [],
   "source": [
    "df[(df['Marks']>100) | (df['Age']==14)] #filtering using OR(|)"
   ]
  },
  {
   "attachments": {},
   "cell_type": "markdown",
   "metadata": {},
   "source": [
    "Group-by"
   ]
  },
  {
   "cell_type": "code",
   "execution_count": null,
   "metadata": {},
   "outputs": [],
   "source": [
    "df.groupby(\"Marks\").Age.mean()"
   ]
  },
  {
   "cell_type": "code",
   "execution_count": null,
   "metadata": {},
   "outputs": [],
   "source": [
    "subs=df.Subject.values # return array of the specified column.\n",
    "print(subs)\n",
    "#df.Subject.describe()"
   ]
  }
 ],
 "metadata": {
  "kernelspec": {
   "display_name": "Python 3",
   "language": "python",
   "name": "python3"
  },
  "language_info": {
   "codemirror_mode": {
    "name": "ipython",
    "version": 3
   },
   "file_extension": ".py",
   "mimetype": "text/x-python",
   "name": "python",
   "nbconvert_exporter": "python",
   "pygments_lexer": "ipython3",
   "version": "3.9.2"
  },
  "orig_nbformat": 4,
  "vscode": {
   "interpreter": {
    "hash": "916dbcbb3f70747c44a77c7bcd40155683ae19c65e1c03b4aa3499c5328201f1"
   }
  }
 },
 "nbformat": 4,
 "nbformat_minor": 2
}
