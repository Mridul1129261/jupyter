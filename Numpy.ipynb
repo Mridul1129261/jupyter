{
 "cells": [
  {
   "attachments": {},
   "cell_type": "markdown",
   "metadata": {},
   "source": [
    "**NUMPY**\n"
   ]
  },
  {
   "attachments": {},
   "cell_type": "markdown",
   "metadata": {},
   "source": [
    "Single Dimensional array creation  using numpy"
   ]
  },
  {
   "cell_type": "code",
   "execution_count": null,
   "metadata": {},
   "outputs": [],
   "source": [
    "import numpy as np\n",
    "a=np.zeros(3) # create array of zeroes of specified size\n",
    "#print(\"a:\",a)\n",
    "b=np.ones(4) # create array of ones of specified size \n",
    "#print(\"b:\",b)\n",
    "c=np.arange(5) # create array from zero to specified n-1\n",
    "#print(\"c:\",c)\n",
    "d=np.array(([1,2,3])) # create array of specified list\n",
    "#print(\"d:\",d)\n",
    "r=np.random.randn(5) # create random array of specified size\n",
    "#print(\"r:\",r)\n",
    "ri=np.random.randint(low=23, high=43, size=(4)) # create random customised array of specified size-1\n",
    "#print(\"ri:\",ri)"
   ]
  },
  {
   "attachments": {},
   "cell_type": "markdown",
   "metadata": {},
   "source": [
    "MULTI- Dimensional array NUMPY"
   ]
  },
  {
   "cell_type": "code",
   "execution_count": null,
   "metadata": {},
   "outputs": [],
   "source": [
    "a=np.zeros((4,2)) # create array of zeroes of specified row,columns\n",
    "#print(\"a:\",a)\n",
    "b=np.ones((3,3)) # create array of ones of specified row,columns \n",
    "#print(\"b:\",b)\n",
    "r=np.random.randn(3,4) \n",
    "#print(\"r:\",r)\n",
    "ri=np.random.randint(low=23, high=43, size=((3,4)))\n",
    "#print(\"ri:\",ri)\n",
    "d=np.array(([1,2,3],[4,5,6],[7,8,9])) # create array of specified list \n",
    "#print(\"d:\",d)\n",
    "f=np.array((np.arange(5),np.zeros(5),np.ones(5))) #summarise the above\n",
    "#print(\"f:\",f)"
   ]
  },
  {
   "attachments": {},
   "cell_type": "markdown",
   "metadata": {},
   "source": [
    "Traversing and etc."
   ]
  },
  {
   "cell_type": "code",
   "execution_count": null,
   "metadata": {},
   "outputs": [],
   "source": [
    "a=np.array(([1,2,3],[4,5,6],[7,8,0]))\n",
    "print(a)\n",
    "print(\"row 0:\")\n",
    "print(a[0])\n",
    "print(\"column 0:\")\n",
    "print(a[:,0])\n",
    "print(\"element at row 2 column 1: \",a[2,1]) # alter a[2][1]\n",
    "print(\"Now adding 1 to a\")\n",
    "print(a+1)\n",
    "print(\"Now multiplying a by 2\")\n",
    "print(a*2)\n",
    "print(\"Sum of a: \",sum(a), \"(row-wise)\")\n",
    "print(\"Sum complete: \", a.sum())\n",
    "print(\"Mean: \" ,a.mean())\n",
    "print(\"Min: \",a.min(),\" Max: \",a.max())\n",
    "print(\"Standard deviation: \" ,a.std())\n",
    "print(\"Now changing 1st row of a\")\n",
    "a[1]=[6,5,2]\n",
    "print(\"a new: \\n\", a)"
   ]
  },
  {
   "cell_type": "code",
   "execution_count": null,
   "metadata": {},
   "outputs": [],
   "source": [
    "print(a>3)\n",
    "print(a[a>3])"
   ]
  }
 ],
 "metadata": {
  "kernelspec": {
   "display_name": "Python 3",
   "language": "python",
   "name": "python3"
  },
  "language_info": {
   "codemirror_mode": {
    "name": "ipython",
    "version": 3
   },
   "file_extension": ".py",
   "mimetype": "text/x-python",
   "name": "python",
   "nbconvert_exporter": "python",
   "pygments_lexer": "ipython3",
   "version": "3.9.2"
  },
  "orig_nbformat": 4,
  "vscode": {
   "interpreter": {
    "hash": "916dbcbb3f70747c44a77c7bcd40155683ae19c65e1c03b4aa3499c5328201f1"
   }
  }
 },
 "nbformat": 4,
 "nbformat_minor": 2
}
